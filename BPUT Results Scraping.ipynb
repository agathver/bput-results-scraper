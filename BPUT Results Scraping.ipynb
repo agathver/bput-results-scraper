{
 "cells": [
  {
   "cell_type": "markdown",
   "metadata": {},
   "source": [
    "# Scraping the BPUT Results Website\n",
    "\n",
    "## _[bputexam.in](http://www.bputexam.in) sucks, we all know that._ \n",
    "\n",
    "This is an utility to fetch all marks and (possibly) preserve them in an \"air-tight, sterilized, transparent, container\" free from \"viruses\"\n",
    "\n",
    "Simple interactive scraping project using lxml and requests, nothing fancy.\n",
    "\n",
    "Perhaps, one day you will use this data for analytics and find the subject that sucks the most. Feel free to use this dump for whatever you want to do. This code is MIT licensed. You can see the terms at the end of this notebook."
   ]
  },
  {
   "cell_type": "code",
   "execution_count": 1,
   "metadata": {},
   "outputs": [],
   "source": [
    "# import 'em all!\n",
    "import requests\n",
    "import lxml.html\n",
    "from ipywidgets import interact_manual"
   ]
  },
  {
   "cell_type": "markdown",
   "metadata": {},
   "source": [
    "## A bit about scraping sites using ASP.NET Forms\n",
    "\n",
    "It's a nightmare. Complicated with the fact that these people use Telerik.UI controls, which exposes a bunch of its own hidden states.\n",
    "\n",
    "[Scraping Websites Based on ViewStates with Scrapy](https://blog.scrapinghub.com/2016/04/20/scrapy-tips-from-the-pros-april-2016-edition/) from ScrapingHub blog, explains a bit about various ASP.NET hidden inputs and their significance. \n",
    "\n",
    "### Submitting forms\n",
    "\n",
    "In order to simulate a form submission, you need to submit all ASP.NET hidden fields: `__VIEWSTATE`, `__VIEWSTATEENCRYPTED`, and `__VIEWSTATEGENERATOR`. \n",
    "\n",
    "Moar doks:\n",
    "\n",
    " - https://msdn.microsoft.com/en-us/library/ms972976.aspx\n",
    " - https://msdn.microsoft.com/en-us/library/bb386448.aspx\n",
    " \n",
    "\n",
    "_These folks use VIEW_STATE encryption, so it's not possible to tamper it. So we have to pass the viewstate as is._\n",
    "\n",
    "After a bit of fiddling with Firefox's network debug tool, I came up with the \"magic fields\".\n",
    "\n",
    "### Triggering an onClick (POST-back), server-side\n",
    "\n",
    "Yuck, why? But it's ASP.NET, so you have a special post request to trigger an onClick, this is represented by the special parameter `__EVENTTARGET`. The value of this field is an ASP.NET ControlID.\n",
    "\n",
    "Moar doks:\n",
    "\n",
    " - https://www.codeproject.com/Articles/134614/Way-To-Know-Which-Control-Has-Raised-PostBack\n",
    " \n",
    "Another trick is the case of multiple submit buttons, Forms from lxml, by default include all submit buttons in fields. We need to delete the ones which we are not clicking, before making a request"
   ]
  },
  {
   "cell_type": "code",
   "execution_count": 2,
   "metadata": {},
   "outputs": [],
   "source": [
    "# URL For student result page,\n",
    "url = 'http://www.bputexam.in/StudentSection/ResultPublished/StudentResult.aspx'\n",
    "\n",
    "# BPUT Website needs a browser session, so we create a session and let `requests`\n",
    "# manage the cookie jar\n",
    "s = requests.Session()"
   ]
  },
  {
   "cell_type": "code",
   "execution_count": 3,
   "metadata": {},
   "outputs": [
    {
     "data": {
      "application/vnd.jupyter.widget-view+json": {
       "model_id": "ee9cf65c5668456bb667f3b96094a837",
       "version_major": 2,
       "version_minor": 0
      },
      "text/html": [
       "<p>Failed to display Jupyter Widget of type <code>interactive</code>.</p>\n",
       "<p>\n",
       "  If you're reading this message in the Jupyter Notebook or JupyterLab Notebook, it may mean\n",
       "  that the widgets JavaScript is still loading. If this message persists, it\n",
       "  likely means that the widgets JavaScript library is either not installed or\n",
       "  not enabled. See the <a href=\"https://ipywidgets.readthedocs.io/en/stable/user_install.html\">Jupyter\n",
       "  Widgets Documentation</a> for setup instructions.\n",
       "</p>\n",
       "<p>\n",
       "  If you're reading this message in another frontend (for example, a static\n",
       "  rendering on GitHub or <a href=\"https://nbviewer.jupyter.org/\">NBViewer</a>),\n",
       "  it may mean that your frontend doesn't currently support widgets.\n",
       "</p>\n"
      ],
      "text/plain": [
       "interactive(children=(Text(value='', description='reg_no'), Dropdown(description='exam', options={'Select Exam Session': '0', 'Odd-2013': '9', 'Even-2014': '10', 'Odd-2014': '11', 'Even-2014-15': '12', 'Odd-2015-16': '13', 'Even-2015-16': '14', 'Special-2015-16': '15', 'Odd (2016-17)': '16', 'Even(2016-17)': '17', 'Special(2016-17)': '18', 'Odd(2017-18)': '19'}, value='0'), Button(description='Run Interact', style=ButtonStyle()), Output()), _dom_classes=('widget-interact',))"
      ]
     },
     "metadata": {},
     "output_type": "display_data"
    }
   ],
   "source": [
    "# Get initial data\n",
    "res = s.get(url)\n",
    "input_page = lxml.html.fromstring(res.text)\n",
    "input_page.make_links_absolute(url)\n",
    "exam_options = { option.text:option.attrib['value'] for option in input_page.cssselect('#ddlSession > option')}\n",
    "    \n",
    "@interact_manual(reg_no='', exam=exam_options)\n",
    "def show_results(reg_no, exam):\n",
    "    global input_page\n",
    "    \n",
    "    #print(reg_no,exam)\n",
    "    \n",
    "    # Fill the first form\n",
    "    student_info_form = input_page.forms[0]\n",
    "    student_info_form.fields['ddlSession'] = exam\n",
    "    # BPUT does not validate date of birth\n",
    "    student_info_form.fields['dpStudentdob'] = '2018-02-08'\n",
    "    student_info_form.fields['txtRegNo'] = reg_no\n",
    "\n",
    "    fields = { k:v for k,v in student_info_form.fields.items() }\n",
    "    del fields['btnReset']\n",
    "    #print(fields)\n",
    "    \n",
    "    # Submit the input page\n",
    "    res = s.post(student_info_form.action,fields)\n",
    "    \n",
    "    intermediate_page = lxml.html.fromstring(res.text)\n",
    "    intermediate_page.make_links_absolute(url)\n",
    "    \n",
    "    result_params = { k:v for k,v in intermediate_page.forms[0].fields.items() }\n",
    "    # From browser inspector, it's the ControlID. It does not change between\n",
    "    # page refreshes\n",
    "    result_params['__EVENTTARGET'] = 'gvResultSummary$ctl02$lnkViewResult'\n",
    "    result_params['__EVENTARGUMENT'] = ''\n",
    "    del result_params['btnView']\n",
    "    del result_params['btnReset']\n",
    "    \n",
    "    # Submit the summary page\n",
    "    result_res = s.post(intermediate_page.forms[0].action,result_params)\n",
    "    result_page = lxml.html.fromstring(result_res.text)\n",
    "    results_table = result_page.cssselect('#gvViewResult')[0]\n",
    "    \n",
    "    # Extract data from the table\n",
    "    rows = results_table.cssselect('tr')\n",
    "    header = [str(th.text_content()).strip() for th in rows[0].cssselect('th')]\n",
    "    data = [[str(td.text_content()).strip() for td in row.cssselect('td')] for row in rows[1:]]\n",
    "    summary = data[-1]\n",
    "    marks = data[:-1]\n",
    "    \n",
    "    name = result_page.cssselect('#lblName')[0].text_content()\n",
    "    college = result_page.cssselect('#lblCollege')[0].text_content()\n",
    "    exam_name = result_page.cssselect('#lblResultName')[0].text_content()\n",
    "    lbl_branch = result_page.cssselect('#lblBranch')[0].text_content()\n",
    "    \n",
    "    # show results\n",
    "    print('Name:', name)\n",
    "    print('College:', college)\n",
    "    \n",
    "    for sub in marks:\n",
    "        print(f'{sub[2]} ({sub[4]}) : {sub[5]}')\n",
    "        \n",
    "    print(summary[4])\n",
    "    print(summary[5])"
   ]
  },
  {
   "cell_type": "markdown",
   "metadata": {},
   "source": [
    "## LICENSE\n",
    "Copyright 2018 Amitosh Swain Mahapatra\n",
    "\n",
    "Permission is hereby granted, free of charge, to any person obtaining a copy of this software and associated documentation files (the \"Software\"), to deal in the Software without restriction, including without limitation the rights to use, copy, modify, merge, publish, distribute, sublicense, and/or sell copies of the Software, and to permit persons to whom the Software is furnished to do so, subject to the following conditions:\n",
    "\n",
    "The above copyright notice and this permission notice shall be included in all copies or substantial portions of the Software.\n",
    "\n",
    "THE SOFTWARE IS PROVIDED \"AS IS\", WITHOUT WARRANTY OF ANY KIND, EXPRESS OR IMPLIED, INCLUDING BUT NOT LIMITED TO THE WARRANTIES OF MERCHANTABILITY, FITNESS FOR A PARTICULAR PURPOSE AND NONINFRINGEMENT. IN NO EVENT SHALL THE AUTHORS OR COPYRIGHT HOLDERS BE LIABLE FOR ANY CLAIM, DAMAGES OR OTHER LIABILITY, WHETHER IN AN ACTION OF CONTRACT, TORT OR OTHERWISE, ARISING FROM, OUT OF OR IN CONNECTION WITH THE SOFTWARE OR THE USE OR OTHER DEALINGS IN THE SOFTWARE."
   ]
  }
 ],
 "metadata": {
  "kernelspec": {
   "display_name": "Python 3",
   "language": "python",
   "name": "python3"
  },
  "language_info": {
   "codemirror_mode": {
    "name": "ipython",
    "version": 3
   },
   "file_extension": ".py",
   "mimetype": "text/x-python",
   "name": "python",
   "nbconvert_exporter": "python",
   "pygments_lexer": "ipython3",
   "version": "3.6.4"
  }
 },
 "nbformat": 4,
 "nbformat_minor": 2
}
